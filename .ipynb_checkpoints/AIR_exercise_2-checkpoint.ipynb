{
 "cells": [
  {
   "cell_type": "markdown",
   "metadata": {},
   "source": [
    "Write a program to calculate a variant of the Hamming distance with two key modifications to the standard algorithm. In information theory, the Hamming distance is a measure of the distance between two text strings. This is calculated by adding one to the Hamming distance for each character that is different between the two strings. For example, “kitten\" and “mitten\" have a Hamming distance of 1. See https://en.wikipedia.org/wiki/Hamming_distance for more information. \n",
    "\n",
    "Modifications to the standard Hamming distance algorithm for the purposes of this exercise include: \n",
    "\n",
    "1)\tAdd .5 to the Hamming distance if a capital letter is switched for a lower case letter unless it is in the first position.  Examples include: \n",
    "a.\t\"Kitten\" and \"kitten\" have a distance of 0 \n",
    "b.\t\"kitten\" and \"KiTten\" have a Hamming distance of .5.\n",
    "c.\t\"Puppy\" and \"POppy\" have a distance of 1.5 (1 for the different letter, additional .5 for the different capitalization). \n",
    "\n",
    "2)\tConsider S and Z (and s and z) to be the same letter. For example, \"analyze\" has a distance of 0 from \"analyse\".\n",
    "Test cases with expected outputs: \n",
    "\n",
    "make\tMage\t1\n",
    "\n",
    "MaiSY\tMaiZy\t.5\n",
    "\n",
    "Eagle\tEager\t2\n",
    "\n",
    "Sentences work too\tSentences wAke too\t3.5\n",
    "\n",
    "Use the program you wrote to score the following strings:\n",
    "\n",
    "a)\t\"data Science\" to \"Data Sciency\"\n",
    "\n",
    "b)\t\"organizing\" to \"orGanising\"\n",
    "\n",
    "c)\t\"AGPRklafsdyweIllIIgEnXuTggzF\" to \"AgpRkliFZdiweIllIIgENXUTygSF\")\n",
    "\n",
    "Then:\n",
    "\n",
    "a)\tDescribe a scenario (3-4 sentences) where implementing the standard Hamming distance algorithm would be applicable. \n",
    "\n"
   ]
  },
  {
   "cell_type": "code",
   "execution_count": 172,
   "metadata": {},
   "outputs": [],
   "source": [
    "# defining function\n",
    "def hamming(given, end):\n",
    "    x =  list(given)\n",
    "    y = list(end)\n",
    "    sum = 0\n",
    "    \n",
    "    #first character loop to ignore if case is different\n",
    "    for a, b in zip(x[0],y[0]):\n",
    "        if a != b:\n",
    "            if a.lower() == b.lower():\n",
    "                sum+=0\n",
    "            else:       \n",
    "                sum += 1\n",
    "                \n",
    "    #remaining character loop\n",
    "    for a, b in zip(x[1:],y[1:]):\n",
    "        if a != b:\n",
    "            #to handle the s and z treated as the same letters\n",
    "            if a and b in ['S','Z','s','z']:\n",
    "                if a in ['S', 'Z'] and b in ['S', 'Z']:\n",
    "                    sum+=0\n",
    "                elif a in ['s', 'z'] and b in ['s', 'z']:\n",
    "                    sum+=0\n",
    "                else:\n",
    "                    sum+=0\n",
    "            else:\n",
    "                #to handle the case and change of letter possibilities \n",
    "                if a.lower() == a and b.upper()==b:\n",
    "                    if a.lower()==b.lower():\n",
    "                        sum+=.5\n",
    "                    else:\n",
    "                        sum+=1.5\n",
    "                elif a.upper() == a and b.lower()==b:\n",
    "                    if a.lower()==b.lower():\n",
    "                        sum+=.5\n",
    "                    else:\n",
    "                        sum+=1.5\n",
    "                else:       \n",
    "                    sum += 1\n",
    "    return sum"
   ]
  },
  {
   "cell_type": "code",
   "execution_count": 186,
   "metadata": {},
   "outputs": [
    {
     "name": "stdout",
     "output_type": "stream",
     "text": [
      "1\n",
      "0.5\n",
      "5.5\n"
     ]
    }
   ],
   "source": [
    "# scoring the final strings\n",
    "print(hamming('data Science', 'Data Sciency'))\n",
    "print(hamming('organizing', 'orGanising'))\n",
    "print(hamming('AGPRklafsdyweIllIIgEnXuTggzF', 'AgpRkliFZdiweIllIIgENXUTygSF'))"
   ]
  },
  {
   "cell_type": "markdown",
   "metadata": {},
   "source": [
    "## a) Describe a scenario (3-4 sentences) where implementing the standard Hamming distance algorithm would be applicable.\n",
    "\n",
    "Two possibilites which I can see are useful scenarios for the Hamming distance algorithm relate to teaching and to word processing. Firstly, an English teacher would be able to use the algorithm to track the progress of his/her students spelling mistakes over time. Word processing software would also be able to utilize the algorithm to determine whether or not the software should change the user's mispelled word depending on how \"far\" from the correct spelling the mispelled word would be. A software engineer could set the Hamming number to a specific total where if the mispelled word was less than that limit, it would either suggest or replace the user's word with the correctly spelled one. "
   ]
  },
  {
   "cell_type": "code",
   "execution_count": null,
   "metadata": {},
   "outputs": [],
   "source": []
  }
 ],
 "metadata": {
  "kernelspec": {
   "display_name": "Python 3",
   "language": "python",
   "name": "python3"
  },
  "language_info": {
   "codemirror_mode": {
    "name": "ipython",
    "version": 3
   },
   "file_extension": ".py",
   "mimetype": "text/x-python",
   "name": "python",
   "nbconvert_exporter": "python",
   "pygments_lexer": "ipython3",
   "version": "3.6.10"
  }
 },
 "nbformat": 4,
 "nbformat_minor": 4
}
