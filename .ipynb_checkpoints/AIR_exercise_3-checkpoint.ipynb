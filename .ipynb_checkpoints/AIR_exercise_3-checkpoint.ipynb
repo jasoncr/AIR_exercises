{
 "cells": [
  {
   "cell_type": "markdown",
   "metadata": {},
   "source": [
    "Perform some data cleaning using the provided file, “patent_drawing.csv”. “Patent_drawing.csv” contains a list of patents and a short description of each drawing included with a patent grant. \n",
    "\n",
    "For example, patent number 0233365 (https://patents.google.com/patent/US20030233365A1/en) has 16 images. For each image, there is a brief description of the drawings. The description is included in the “text” field in patent_drawing.csv. \n",
    "\n",
    "Let’s say that we are interested in understanding:\n",
    "\n",
    "a)\tHow many of the field descriptions reference a perspective that is not standard (i.e. viewed from the top, bottom, front or rear)? Specifically, write code to count how many of the rows have the words \"view\" or \"perspective\" but do not include \"bottom\", \"top\", \"front\" or \"rear\" in  the text field?\n",
    "\n",
    "b)\tWhat is the average number of drawing descriptions per patent? \n"
   ]
  },
  {
   "cell_type": "code",
   "execution_count": 169,
   "metadata": {},
   "outputs": [],
   "source": [
    "import pandas as pd"
   ]
  },
  {
   "cell_type": "code",
   "execution_count": 170,
   "metadata": {},
   "outputs": [],
   "source": [
    "df = pd.read_csv(\"patent_drawing.csv\")"
   ]
  },
  {
   "cell_type": "code",
   "execution_count": 171,
   "metadata": {},
   "outputs": [
    {
     "name": "stdout",
     "output_type": "stream",
     "text": [
      "(4611, 3)\n"
     ]
    }
   ],
   "source": [
    "# find the number of field descriptions that include the words \"view\" or \"perspective\"\n",
    "df_view = df[df.text.str.contains('view') | df.text.str.contains('perspective')]\n",
    "print(df_view.shape)"
   ]
  },
  {
   "cell_type": "code",
   "execution_count": 172,
   "metadata": {},
   "outputs": [
    {
     "name": "stdout",
     "output_type": "stream",
     "text": [
      "Number of nonstandard descriptions is 3661.\n"
     ]
    }
   ],
   "source": [
    "# find the number of nonstandard descriptions\n",
    "reduced_df = df_view[(df_view.text.str.contains('bottom')==False) & (df_view.text.str.contains('front')==False) \\\n",
    "    & (df_view.text.str.contains('top')==False) & (df_view.text.str.contains('rear')==False)]\n",
    "\n",
    "print(f'Number of nonstandard descriptions is {reduced_df.shape[0]}.')"
   ]
  },
  {
   "cell_type": "code",
   "execution_count": 173,
   "metadata": {},
   "outputs": [],
   "source": [
    "temp = df.groupby(['patent_id']).count()"
   ]
  },
  {
   "cell_type": "code",
   "execution_count": 178,
   "metadata": {},
   "outputs": [
    {
     "name": "stdout",
     "output_type": "stream",
     "text": [
      "Average number of drawing descriptions per patent: 7.4.\n"
     ]
    }
   ],
   "source": [
    "# average number of drawing descriptions per patent rounded to 1 decimal place\n",
    "print(f'Average number of drawing descriptions per patent: {round(temp.text.mean(), 1)}.')"
   ]
  },
  {
   "cell_type": "code",
   "execution_count": null,
   "metadata": {},
   "outputs": [],
   "source": []
  }
 ],
 "metadata": {
  "kernelspec": {
   "display_name": "Python 3",
   "language": "python",
   "name": "python3"
  },
  "language_info": {
   "codemirror_mode": {
    "name": "ipython",
    "version": 3
   },
   "file_extension": ".py",
   "mimetype": "text/x-python",
   "name": "python",
   "nbconvert_exporter": "python",
   "pygments_lexer": "ipython3",
   "version": "3.6.10"
  }
 },
 "nbformat": 4,
 "nbformat_minor": 4
}
